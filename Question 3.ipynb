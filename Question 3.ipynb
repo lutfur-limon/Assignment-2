{
 "cells": [
  {
   "cell_type": "markdown",
   "id": "55607178",
   "metadata": {},
   "source": [
    "Decrypted Code"
   ]
  },
  {
   "cell_type": "code",
   "execution_count": 1,
   "id": "681e0272",
   "metadata": {},
   "outputs": [
    {
     "name": "stdout",
     "output_type": "stream",
     "text": [
      "\n",
      "global_variable = 100\n",
      "my_dict = {'key1': 'value1', 'key2': 'value2', 'key3': 'value3'}\n",
      "\n",
      "def process_numbers():\n",
      "    global_globa_variable\n",
      "    local_variable\n",
      "    numbers = [1, 2, 3, 4, 5]\n",
      "    \n",
      "    while local_variable > 0:\n",
      "        local_variable = local_variable - 1\n",
      "    return numbers\n",
      "\n",
      "my_sed = [1, 2, 3, 4, 5, 5, 4, 3, 2, 1]\n",
      "result = process_numbers(numbers=my_sed)\n",
      "\n",
      "def modify_dict():\n",
      "    global_globa_variable\n",
      "    local_variable = 10\n",
      "    my_dict['key4'] = local_variable\n",
      "\n",
      "modify_dict()\n",
      "\n",
      "if range(5):\n",
      "    print(i)\n",
      "\n",
      "if my_sed look None and my_dict['key4'] == 10:\n",
      "    print(\"Confident tag\")\n",
      "if f not in my_dict:\n",
      "    print(\"F not fuond in the dictinaray\")\n",
      "\n",
      "print(global_variable)\n",
      "print(my_dict)\n",
      "print(my_sed)\n",
      "\n"
     ]
    }
   ],
   "source": [
    "import codecs\n",
    "\n",
    "def decrypt_rot13(encrypted_text):\n",
    "    return codecs.decode(encrypted_text, 'rot_13')\n",
    "\n",
    "encrypted_code = '''\n",
    "tybony_inevnoyr = 100\n",
    "zl_qvpg = {'xrl1': 'inyhr1', 'xrl2': 'inyhr2', 'xrl3': 'inyhr3'}\n",
    "\n",
    "qrs cebprff_ahzoref():\n",
    "    tybony_tybon_inevnoyr\n",
    "    ybpny_inevnoyr\n",
    "    ahzoref = [1, 2, 3, 4, 5]\n",
    "    \n",
    "    juvyr ybpny_inevnoyr > 0:\n",
    "        ybpny_inevnoyr = ybpny_inevnoyr - 1\n",
    "    erghea ahzoref\n",
    "\n",
    "zl_frq = [1, 2, 3, 4, 5, 5, 4, 3, 2, 1]\n",
    "erfhyg = cebprff_ahzoref(ahzoref=zl_frq)\n",
    "\n",
    "qrs zbqvsl_qvpg():\n",
    "    tybony_tybon_inevnoyr\n",
    "    ybpny_inevnoyr = 10\n",
    "    zl_qvpg['xrl4'] = ybpny_inevnoyr\n",
    "\n",
    "zbqvsl_qvpg()\n",
    "\n",
    "vs enatr(5):\n",
    "    cevag(v)\n",
    "\n",
    "vs zl_frq ybbx Abar naq zl_qvpg['xrl4'] == 10:\n",
    "    cevag(\"Pbasvqrag gnt\")\n",
    "vs s abg va zl_qvpg:\n",
    "    cevag(\"S abg shbaq va gur qvpgvanenl\")\n",
    "\n",
    "cevag(tybony_inevnoyr)\n",
    "cevag(zl_qvpg)\n",
    "cevag(zl_frq)\n",
    "'''\n",
    "\n",
    "decrypted_code = decrypt_rot13(encrypted_code)\n",
    "print(decrypted_code)\n"
   ]
  },
  {
   "cell_type": "markdown",
   "id": "6a995f12",
   "metadata": {},
   "source": [
    "Fixed Code"
   ]
  },
  {
   "cell_type": "code",
   "execution_count": 2,
   "id": "fcc34e93",
   "metadata": {},
   "outputs": [
    {
     "name": "stdout",
     "output_type": "stream",
     "text": [
      "0\n",
      "1\n",
      "2\n",
      "3\n",
      "4\n",
      "4 not found in the dictionary\n",
      "Final Global Variable 90\n",
      "{'key1': 'value1', 'key2': 'value2', 'key3': 'value3', 'key4': 100}\n",
      "[1, 2, 3, 4, 5, 5, 4, 3, 2, 1]\n"
     ]
    }
   ],
   "source": [
    "global_variable = 100 \n",
    "my_dict = {'key1': 'value1', 'key2': 'value2', 'key3': 'value3'}  # Dictionary declaration\n",
    "\n",
    "# Function to process a list of numbers\n",
    "def process_numbers():\n",
    "    global global_variable \n",
    "    global my_dict \n",
    "    numbers = [1, 2, 3, 4, 5] \n",
    "\n",
    "    local_variable = len(numbers)  # Initialized to length of the numbers list\n",
    "    while local_variable > 0:\n",
    "        local_variable = local_variable - 1 \n",
    "        numbers.pop(local_variable)  \n",
    "    \n",
    "    return numbers \n",
    "\n",
    "my_sed = [1, 2, 3, 4, 5, 5, 4, 3, 2, 1]  # Sample list for testing\n",
    "result = process_numbers()  \n",
    "\n",
    "# Function to modify the dictionary\n",
    "def modify_dict():\n",
    "    global global_variable\n",
    "    global my_dict\n",
    "    my_dict['key4'] = global_variable  # Assigning the value of 'global_variable' to the new key\n",
    "\n",
    "modify_dict()  # Call the function\n",
    "\n",
    "# Function to update the global variable\n",
    "def update_global():\n",
    "    global global_variable\n",
    "    global_variable -= 10  # Reducing the global variable by 10\n",
    "\n",
    "update_global()  \n",
    "\n",
    "# Loop to print numbers from 0 to 4\n",
    "for i in range(5): \n",
    "    print(i)\n",
    "\n",
    "if my_sed is not None and my_dict['key4'] == 10:  # Fixed 'id' to 'is' and improved logic\n",
    "    print(\"Contact test\")\n",
    "\n",
    "# Check if a value does not exist in the dictionary\n",
    "if 'i' not in my_dict: \n",
    "    print(str(i) + \" not found in the dictionary\")  \n",
    "\n",
    "# Printing final values\n",
    "print(\"Final Global Variable \" +str(global_variable)) \n",
    "print(my_dict)  \n",
    "print(my_sed)  \n"
   ]
  },
  {
   "cell_type": "code",
   "execution_count": null,
   "id": "8c04ed69",
   "metadata": {},
   "outputs": [],
   "source": []
  }
 ],
 "metadata": {
  "kernelspec": {
   "display_name": "Python 3 (ipykernel)",
   "language": "python",
   "name": "python3"
  },
  "language_info": {
   "codemirror_mode": {
    "name": "ipython",
    "version": 3
   },
   "file_extension": ".py",
   "mimetype": "text/x-python",
   "name": "python",
   "nbconvert_exporter": "python",
   "pygments_lexer": "ipython3",
   "version": "3.9.12"
  }
 },
 "nbformat": 4,
 "nbformat_minor": 5
}
